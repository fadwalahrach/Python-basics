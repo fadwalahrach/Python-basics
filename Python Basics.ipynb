{
 "cells": [
  {
   "cell_type": "markdown",
   "id": "030cef8f",
   "metadata": {},
   "source": [
    "# Question 1\n",
    "\n",
    "Write a Python program which accepts the user's first and last name and print them in reverse order with a space between them."
   ]
  },
  {
   "cell_type": "code",
   "execution_count": 1,
   "id": "c86a86ca",
   "metadata": {},
   "outputs": [
    {
     "name": "stdout",
     "output_type": "stream",
     "text": [
      "Entrer votre nom: lahrach\n",
      "Entrer votre prenom: fadwa\n",
      "fadwa lahrach\n"
     ]
    }
   ],
   "source": [
    "nom = input(\"Entrer votre nom: \")\n",
    "prenom = input(\"Entrer votre prenom: \")\n",
    "print(prenom+\" \"+nom)"
   ]
  },
  {
   "cell_type": "markdown",
   "id": "f849b8bc",
   "metadata": {},
   "source": [
    "# Question 2\n",
    "\n",
    "Write a Python program that accepts an integer (n) and computes the value of n+nn+nnn\n",
    "Sample value of n is 5 \n",
    "Expected Result : 615 (5+55+555)"
   ]
  },
  {
   "cell_type": "code",
   "execution_count": 3,
   "id": "a27e2d27",
   "metadata": {},
   "outputs": [
    {
     "name": "stdout",
     "output_type": "stream",
     "text": [
      "Entrer une valeur: 5\n",
      "615 = 5 + 55 + 555\n"
     ]
    }
   ],
   "source": [
    "n = input(\"Entrer une valeur: \")\n",
    "nn = n*2\n",
    "nnn = n*3\n",
    "\n",
    "sum = int(n)+int(nn)+int(nnn)\n",
    "\n",
    "print(sum,\"=\",n,\"+\",nn,\"+\",nnn)"
   ]
  },
  {
   "cell_type": "markdown",
   "id": "55286af4",
   "metadata": {},
   "source": [
    "# Question 3\n",
    "\n",
    "Write a Python program to find whether a given number (accept from the user) is even or odd, print out an appropriate message to the user."
   ]
  },
  {
   "cell_type": "code",
   "execution_count": 4,
   "id": "d9591308",
   "metadata": {},
   "outputs": [
    {
     "name": "stdout",
     "output_type": "stream",
     "text": [
      "Entrer une valeur: 6\n",
      "6 est pair\n"
     ]
    }
   ],
   "source": [
    "n = int(input(\"Entrer une valeur: \"))\n",
    "\n",
    "if n%2==0:\n",
    "    print(n, \"est pair\")\n",
    "else:\n",
    "    print(n, \"est impair\")"
   ]
  },
  {
   "cell_type": "markdown",
   "id": "88302a6f",
   "metadata": {},
   "source": [
    "# Question 4\n",
    "\n",
    "Write a program which will find all such numbers which are divisible by 7 but are not a multiple of 5, between 2000 and 3200 (both included). The numbers obtained should be printed in a sequence on a single line.\n",
    "\n",
    "Hints: Consider use range(#begin, #end) method "
   ]
  },
  {
   "cell_type": "code",
   "execution_count": 5,
   "id": "0dc16b2d",
   "metadata": {},
   "outputs": [
    {
     "name": "stdout",
     "output_type": "stream",
     "text": [
      "2002,2009,2016,2023,2037,2044,2051,2058,2072,2079,2086,2093,2107,2114,2121,2128,2142,2149,2156,2163,2177,2184,2191,2198,2212,2219,2226,2233,2247,2254,2261,2268,2282,2289,2296,2303,2317,2324,2331,2338,2352,2359,2366,2373,2387,2394,2401,2408,2422,2429,2436,2443,2457,2464,2471,2478,2492,2499,2506,2513,2527,2534,2541,2548,2562,2569,2576,2583,2597,2604,2611,2618,2632,2639,2646,2653,2667,2674,2681,2688,2702,2709,2716,2723,2737,2744,2751,2758,2772,2779,2786,2793,2807,2814,2821,2828,2842,2849,2856,2863,2877,2884,2891,2898,2912,2919,2926,2933,2947,2954,2961,2968,2982,2989,2996,3003,3017,3024,3031,3038,3052,3059,3066,3073,3087,3094,3101,3108,3122,3129,3136,3143,3157,3164,3171,3178,3192,3199,"
     ]
    }
   ],
   "source": [
    "for i in range(2000,3201):\n",
    "    if i%7==0 and i%5!=0:\n",
    "        print(i, end=\",\")"
   ]
  },
  {
   "cell_type": "markdown",
   "id": "e5f9e400",
   "metadata": {},
   "source": [
    "# Question 5\n",
    "\n",
    "Write a program that can compute the factorial of a given number. The results should be printed in a sequence on a single line. Suppose the following input is supplied to the program: 8 Then, the output should be: 40320 "
   ]
  },
  {
   "cell_type": "code",
   "execution_count": 6,
   "id": "579e7c4c",
   "metadata": {},
   "outputs": [
    {
     "name": "stdout",
     "output_type": "stream",
     "text": [
      "Entrer une valeur: 8\n",
      "2\n",
      "6\n",
      "24\n",
      "120\n",
      "720\n",
      "5040\n",
      "40320\n"
     ]
    }
   ],
   "source": [
    "n = int(input(\"Entrer une valeur: \"))\n",
    "if n==0 or n==1:\n",
    "    print(1)\n",
    "else:\n",
    "    f=1\n",
    "    for i in range(2, n+1):\n",
    "        f=f*i\n",
    "        print(f)      "
   ]
  },
  {
   "cell_type": "markdown",
   "id": "7769c74b",
   "metadata": {},
   "source": [
    "# Question 6\n",
    "\n",
    "Write a program to remove the characters which have odd index values of a given string.\n",
    "\n",
    "for example: string =\"hello team\"\n",
    "\n",
    "the result should be: hlota"
   ]
  },
  {
   "cell_type": "code",
   "execution_count": 7,
   "id": "1e6d063f",
   "metadata": {},
   "outputs": [
    {
     "name": "stdout",
     "output_type": "stream",
     "text": [
      "Entrer une chaine: hello team\n",
      "hlota"
     ]
    }
   ],
   "source": [
    "str = input(\"Entrer une chaine: \")\n",
    "for i in range(0, len(str), 2):\n",
    "    print(str[i], end=\"\")"
   ]
  },
  {
   "cell_type": "markdown",
   "id": "682998db",
   "metadata": {},
   "source": [
    "# Question 7\n",
    "\n",
    "In this challenge, you must discount a price according to its value.\n",
    "\n",
    "- If the price is 500 or above, there will be a 50% discount.\n",
    "\n",
    "- If the price is between 200 and 500 (200 inclusive), there will be a 30% discount.\n",
    "\n",
    "- If the price is less than 200, there will be a 10% discount."
   ]
  },
  {
   "cell_type": "code",
   "execution_count": 8,
   "id": "216aeda0",
   "metadata": {},
   "outputs": [
    {
     "name": "stdout",
     "output_type": "stream",
     "text": [
      "Entrer le prix: 200\n",
      "Le montant après réduction:  180.0\n"
     ]
    }
   ],
   "source": [
    "price = int(input(\"Entrer le prix: \"))\n",
    "if price>=500:\n",
    "    f = price * 0.5\n",
    "elif price>200 and price<500:\n",
    "    f = price * 0.7\n",
    "else:\n",
    "    f = price * 0.9\n",
    "print(\"Le montant après réduction: \",f)"
   ]
  }
 ],
 "metadata": {
  "kernelspec": {
   "display_name": "Python 3 (ipykernel)",
   "language": "python",
   "name": "python3"
  },
  "language_info": {
   "codemirror_mode": {
    "name": "ipython",
    "version": 3
   },
   "file_extension": ".py",
   "mimetype": "text/x-python",
   "name": "python",
   "nbconvert_exporter": "python",
   "pygments_lexer": "ipython3",
   "version": "3.9.7"
  }
 },
 "nbformat": 4,
 "nbformat_minor": 5
}
